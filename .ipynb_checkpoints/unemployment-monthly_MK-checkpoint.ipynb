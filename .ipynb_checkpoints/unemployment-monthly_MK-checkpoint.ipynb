{
 "cells": [
  {
   "cell_type": "code",
   "execution_count": 1,
   "metadata": {},
   "outputs": [],
   "source": [
    "import pandas as pd\n",
    "\n",
    "import numpy as np\n",
    "import matplotlib.pyplot as plt"
   ]
  },
  {
   "cell_type": "code",
   "execution_count": 2,
   "metadata": {},
   "outputs": [],
   "source": [
    "atlantic_unemploy = pd.read_csv('./data/Atlantic_city_data/unemployment_nonseaonal.csv')\n",
    "boston_unemploy = pd.read_csv('./data/Boston/unemployment_nonseasonal.csv')\n",
    "bridgeport_unemploy = pd.read_csv('./data/bridgeport_data/unemployment_nonseasonal.csv')\n",
    "new_haven_unemploy = pd.read_csv('./data/new_haven_data/unemployment_nonseasonal.csv')\n",
    "new_london_unemploy = pd.read_csv('./data/new_london_data/unemployment_nonseasonal.csv')\n",
    "newport_unemploy = pd.read_csv('./data/newport/unemployment_nonseasonal.csv')\n",
    "baltimore_unemploy = pd.read_csv('./data/baltimore_data/unemployment_nonseasonal.csv')\n",
    "ocean_city_unemploy = pd.read_csv('./data/ocean_city/unemployment_nonseasonal.csv')\n",
    "portland_unemploy = pd.read_csv('./data/portland/unemployment_nonseasonal.csv')\n",
    "providence_unemploy = pd.read_csv('./data/providence/unemployment_nonseasonal.csv')"
   ]
  }
 ],
 "metadata": {
  "kernelspec": {
   "display_name": "Python 3",
   "language": "python",
   "name": "python3"
  },
  "language_info": {
   "codemirror_mode": {
    "name": "ipython",
    "version": 3
   },
   "file_extension": ".py",
   "mimetype": "text/x-python",
   "name": "python",
   "nbconvert_exporter": "python",
   "pygments_lexer": "ipython3",
   "version": "3.7.2"
  }
 },
 "nbformat": 4,
 "nbformat_minor": 2
}
