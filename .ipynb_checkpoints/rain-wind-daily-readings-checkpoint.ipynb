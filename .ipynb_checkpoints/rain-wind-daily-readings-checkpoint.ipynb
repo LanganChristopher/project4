{
 "cells": [
  {
   "cell_type": "code",
   "execution_count": 9,
   "metadata": {},
   "outputs": [],
   "source": [
    "import pandas as pd\n",
    "\n",
    "import numpy as np\n",
    "import matplotlib.pyplot as plt"
   ]
  },
  {
   "cell_type": "code",
   "execution_count": 10,
   "metadata": {},
   "outputs": [],
   "source": [
    "atlantic_prep = pd.read_csv('./noaa-precip-wind-csv-raw-data/atlantic-city-nj.csv')\n",
    "baltimore_prep = pd.read_csv('./noaa-precip-wind-csv-raw-data/baltimore-md.csv')\n",
    "boston_prep = pd.read_csv('./noaa-precip-wind-csv-raw-data/boston-ma.csv')\n",
    "bridgeport_prep = pd.read_csv('./noaa-precip-wind-csv-raw-data/bridgeport-ct.csv')\n",
    "new_haven_prep = pd.read_csv('./noaa-precip-wind-csv-raw-data/new-haven-ct.csv')\n",
    "new_london_prep = pd.read_csv('./noaa-precip-wind-csv-raw-data/new-london-ct.csv')\n",
    "newport_prep = pd.read_csv('./noaa-precip-wind-csv-raw-data/newport-ri.csv')\n",
    "portland_prep = pd.read_csv('./noaa-precip-wind-csv-raw-data/portland-me.csv')\n",
    "ocean_city_prep = pd.read_csv('./noaa-precip-wind-csv-raw-data/ocean-city-md.csv')\n",
    "providence_prep = pd.read_csv('./noaa-precip-wind-csv-raw-data/providence-ri.csv')\n",
    "new_bedford_prep = pd.read_csv('./noaa-precip-wind-csv-raw-data/new-bedford-ma.csv')"
   ]
  },
  {
   "cell_type": "code",
   "execution_count": 11,
   "metadata": {},
   "outputs": [],
   "source": [
    "def clean_prep(df):\n",
    "    \n",
    "    df = df.loc[:, [\"DATE\", \"PRCP\", \"WSF2\", \"WSF5\"]]\n",
    "    \n",
    "    df.rename(columns={'DATE': 'Date'}, inplace=True)\n",
    "        \n",
    "    df = df.set_index(\"Date\")\n",
    "    \n",
    "    df.index = pd.to_datetime(df.index)\n",
    "        \n",
    "    return df"
   ]
  },
  {
   "cell_type": "code",
   "execution_count": 12,
   "metadata": {},
   "outputs": [],
   "source": [
    "atlantic_prep = clean_prep(atlantic_prep)\n",
    "baltimore_prep = clean_prep(baltimore_prep)\n",
    "boston_prep = clean_prep(boston_prep)\n",
    "bridgeport_prep = clean_prep(bridgeport_prep)\n",
    "new_haven_prep = clean_prep(new_haven_prep)\n",
    "new_london_prep = clean_prep(new_london_prep)\n",
    "newport_prep = clean_prep(newport_prep)\n",
    "portland_prep = clean_prep(portland_prep)\n",
    "ocean_city_prep = clean_prep(ocean_city_prep)\n",
    "providence_prep = clean_prep(providence_prep)\n",
    "new_bedford_prep = clean_prep(new_bedford_prep)"
   ]
  },
  {
   "cell_type": "code",
   "execution_count": 13,
   "metadata": {},
   "outputs": [],
   "source": [
    "atlantic_prep.to_csv(\"./weather-clean-data-original-time/atlantic-prep.csv\")\n",
    "boston_prep.to_csv(\"./weather-clean-data-original-time/boston-prep.csv\")\n",
    "bridgeport_prep.to_csv(\"./weather-clean-data-original-time/bridgeport_prep.csv\")\n",
    "new_haven_prep.to_csv(\"./weather-clean-data-original-time/new_haven_prep.csv\")\n",
    "new_london_prep.to_csv(\"./weather-clean-data-original-time/new_london_prep.csv\")\n",
    "newport_prep.to_csv(\"./weather-clean-data-original-time/newport_prep.csv\")\n",
    "baltimore_prep.to_csv(\"./weather-clean-data-original-time/baltimore_prep.csv\")\n",
    "ocean_city_prep.to_csv(\"./weather-clean-data-original-time/ocean_city_prep.csv\")\n",
    "portland_prep.to_csv(\"./weather-clean-data-original-time/portland_prep.csv\")\n",
    "providence_prep.to_csv(\"./weather-clean-data-original-time/providence_prep.csv\")"
   ]
  },
  {
   "cell_type": "code",
   "execution_count": null,
   "metadata": {},
   "outputs": [],
   "source": []
  }
 ],
 "metadata": {
  "kernelspec": {
   "display_name": "Python 3",
   "language": "python",
   "name": "python3"
  },
  "language_info": {
   "codemirror_mode": {
    "name": "ipython",
    "version": 3
   },
   "file_extension": ".py",
   "mimetype": "text/x-python",
   "name": "python",
   "nbconvert_exporter": "python",
   "pygments_lexer": "ipython3",
   "version": "3.7.2"
  }
 },
 "nbformat": 4,
 "nbformat_minor": 2
}
