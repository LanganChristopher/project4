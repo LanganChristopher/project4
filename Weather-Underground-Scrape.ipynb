{
 "cells": [
  {
   "cell_type": "code",
   "execution_count": 1,
   "metadata": {},
   "outputs": [],
   "source": [
    "import pandas as pd\n",
    "import numpy as np\n",
    "import re\n",
    "import requests\n",
    "from bs4 import BeautifulSoup\n",
    "import time"
   ]
  },
  {
   "cell_type": "code",
   "execution_count": 2,
   "metadata": {},
   "outputs": [],
   "source": [
    "url1 = \"https://www.wunderground.com/history/monthly/KACY/date/2010-1?req_city=Atlantic%20City&req_state=NJ&req_statename=New%20Jersey&reqdb.zip=08401&reqdb.magic=1&reqdb.wmo=99999\""
   ]
  },
  {
   "cell_type": "code",
   "execution_count": 3,
   "metadata": {},
   "outputs": [],
   "source": [
    "url2 = \"https://www.wunderground.com/history/monthly/KBDR/date/2010-1?req_city=Bridgeport&req_state=CT&req_statename=Connecticut&reqdb.zip=06601&reqdb.magic=1&reqdb.wmo=99999\""
   ]
  },
  {
   "cell_type": "code",
   "execution_count": 4,
   "metadata": {},
   "outputs": [],
   "source": [
    "res = requests.get(url1)"
   ]
  },
  {
   "cell_type": "code",
   "execution_count": 5,
   "metadata": {},
   "outputs": [
    {
     "data": {
      "text/plain": [
       "200"
      ]
     },
     "execution_count": 5,
     "metadata": {},
     "output_type": "execute_result"
    }
   ],
   "source": [
    "res.status_code"
   ]
  },
  {
   "cell_type": "code",
   "execution_count": 6,
   "metadata": {},
   "outputs": [],
   "source": [
    "soup = BeautifulSoup(res.content, \"lxml\")"
   ]
  },
  {
   "cell_type": "code",
   "execution_count": 11,
   "metadata": {},
   "outputs": [
    {
     "data": {
      "text/plain": [
       "'74.56'"
      ]
     },
     "execution_count": 11,
     "metadata": {},
     "output_type": "execute_result"
    }
   ],
   "source": [
    "soup.find_all(name=\"strong\")[2].text"
   ]
  },
  {
   "cell_type": "code",
   "execution_count": 13,
   "metadata": {},
   "outputs": [
    {
     "data": {
      "text/plain": [
       "'2010'"
      ]
     },
     "execution_count": 13,
     "metadata": {},
     "output_type": "execute_result"
    }
   ],
   "source": [
    "url1.split(\"/date/\")[1][:4]"
   ]
  },
  {
   "cell_type": "code",
   "execution_count": 53,
   "metadata": {},
   "outputs": [
    {
     "data": {
      "text/plain": [
       "[]"
      ]
     },
     "execution_count": 53,
     "metadata": {},
     "output_type": "execute_result"
    }
   ],
   "source": [
    "soup.find_all(\"table\")"
   ]
  },
  {
   "cell_type": "code",
   "execution_count": 63,
   "metadata": {},
   "outputs": [
    {
     "data": {
      "text/plain": [
       "[<option _ngcontent-c52=\"\">January</option>,\n",
       " <option _ngcontent-c52=\"\">2010</option>]"
      ]
     },
     "execution_count": 63,
     "metadata": {},
     "output_type": "execute_result"
    }
   ],
   "source": [
    "soup.find_all(\"option\")"
   ]
  },
  {
   "cell_type": "code",
   "execution_count": 75,
   "metadata": {},
   "outputs": [
    {
     "data": {
      "text/plain": [
       "<city-history-chart _nghost-c59=\"\"><chart _ngcontent-c59=\"\" _nghost-c62=\"\"><div _ngcontent-c62=\"\" class=\"charts-container\"><svg _ngcontent-c62=\"\"></svg></div></chart></city-history-chart>"
      ]
     },
     "execution_count": 75,
     "metadata": {},
     "output_type": "execute_result"
    }
   ],
   "source": [
    "soup.find(\"city-history-chart\")"
   ]
  },
  {
   "cell_type": "code",
   "execution_count": 76,
   "metadata": {
    "scrolled": true
   },
   "outputs": [
    {
     "data": {
      "text/plain": [
       "<div class=\"region-content\">\n",
       "<link-selector _nghost-c58=\"\"><div _ngcontent-c58=\"\" class=\"selector-container\">\n",
       "<div _ngcontent-c58=\"\" class=\"selector-border\">\n",
       "<div _ngcontent-c58=\"\" class=\"selector\">\n",
       "<!-- --><div _ngcontent-c58=\"\" class=\"link\">Daily</div><div _ngcontent-c58=\"\" class=\"link\">Weekly</div><div _ngcontent-c58=\"\" class=\"link selected\">Monthly</div>\n",
       "</div>\n",
       "</div>\n",
       "</div></link-selector>\n",
       "<date-selector _nghost-c52=\"\" class=\"date-selector\"><!-- -->\n",
       "<div _ngcontent-c52=\"\" class=\"date-selector\">\n",
       "<!-- --><select _ngcontent-c52=\"\">\n",
       "<option _ngcontent-c52=\"\">January</option>\n",
       "</select>\n",
       "<!-- -->\n",
       "<!-- --><select _ngcontent-c52=\"\">\n",
       "<option _ngcontent-c52=\"\">2010</option>\n",
       "</select>\n",
       "<!-- --><input _ngcontent-c52=\"\" class=\"button radius\" type=\"submit\" value=\"View\"/>\n",
       "</div>\n",
       "<!-- --></date-selector>\n",
       "<city-history-chart _nghost-c59=\"\"><chart _ngcontent-c59=\"\" _nghost-c62=\"\"><div _ngcontent-c62=\"\" class=\"charts-container\"><svg _ngcontent-c62=\"\"></svg></div></chart></city-history-chart>\n",
       "</div>"
      ]
     },
     "execution_count": 76,
     "metadata": {},
     "output_type": "execute_result"
    }
   ],
   "source": [
    "soup.find('div', {'class': 'city-body'}).find('div', {'class': 'row'}).find(\"div\", {\"class\": \"region-content\"})"
   ]
  },
  {
   "cell_type": "code",
   "execution_count": null,
   "metadata": {},
   "outputs": [],
   "source": [
    "soup.find('div', {'class': 'city-body'}).find('div', {'class': 'row'}).find(\"div\", {\"class\": \"columns\"}).attrs"
   ]
  },
  {
   "cell_type": "code",
   "execution_count": null,
   "metadata": {},
   "outputs": [],
   "source": [
    "def get_weather(url):\n",
    "    \n",
    "    weather = {}\n",
    "    \n",
    "    try:\n",
    "        res = requests.get(url)\n",
    "    except:\n",
    "        print(\"bad url\")\n",
    "        return []\n",
    "    \n",
    "    soup = BeautifulSoup(res.content, \"lxml\")\n",
    "    \n",
    "    weather[\"month\"] = soup.find_all(\"option\")[0].text\n",
    "    weather[\"year\"] = soup.find_all(\"option\")[1].text\n",
    "    weather[\"latitude\"] = soup.find_all(name=\"strong\")[1].text\n",
    "    weather[\"longitude\"] = soup.find_all(name=\"strong\")[2].text\n",
    "    \n",
    "    \n",
    "    \n",
    "    "
   ]
  }
 ],
 "metadata": {
  "kernelspec": {
   "display_name": "Python 3",
   "language": "python",
   "name": "python3"
  },
  "language_info": {
   "codemirror_mode": {
    "name": "ipython",
    "version": 3
   },
   "file_extension": ".py",
   "mimetype": "text/x-python",
   "name": "python",
   "nbconvert_exporter": "python",
   "pygments_lexer": "ipython3",
   "version": "3.7.2"
  }
 },
 "nbformat": 4,
 "nbformat_minor": 2
}
