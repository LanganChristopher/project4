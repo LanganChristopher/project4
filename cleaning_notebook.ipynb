{
 "cells": [
  {
   "cell_type": "code",
   "execution_count": 624,
   "metadata": {},
   "outputs": [],
   "source": [
    "import pandas as pd\n",
    "\n",
    "import numpy as np\n",
    "import matplotlib.pyplot as plt"
   ]
  },
  {
   "cell_type": "code",
   "execution_count": 625,
   "metadata": {},
   "outputs": [],
   "source": [
    "tide_2010 = pd.read_csv('./oesm18ma/Atlantic_city_data/tide_levels/tide_2010.csv')\n",
    "tide_2011 = pd.read_csv('./oesm18ma/Atlantic_city_data/tide_levels/tide_2011.csv')\n",
    "tide_2012 = pd.read_csv('./oesm18ma/Atlantic_city_data/tide_levels/tide_2012.csv')\n",
    "tide_2013 = pd.read_csv('./oesm18ma/Atlantic_city_data/tide_levels/tide_2013.csv')\n",
    "tide_2014 = pd.read_csv('./oesm18ma/Atlantic_city_data/tide_levels/tide_2014.csv')\n",
    "tide_2015 = pd.read_csv('./oesm18ma/Atlantic_city_data/tide_levels/tide_2015.csv')"
   ]
  },
  {
   "cell_type": "code",
   "execution_count": 626,
   "metadata": {},
   "outputs": [],
   "source": [
    "def clean_tide(df):\n",
    "    df = df.drop(columns= ['Predicted (ft)', 'Preliminary (ft)'], axis=1).set_index('Date')\n",
    "    df.index = pd.to_datetime(df.index)\n",
    "    df = df[df['Verified (ft)'] != '-']\n",
    "    df['Verified (ft)'] = pd.to_numeric(df['Verified (ft)'])\n",
    "    df = df.resample('D').mean()\n",
    "    return df"
   ]
  },
  {
   "cell_type": "code",
   "execution_count": 627,
   "metadata": {},
   "outputs": [],
   "source": [
    "tide_2010 = clean_tide(tide_2010)\n",
    "tide_2011 = clean_tide(tide_2011)\n",
    "tide_2012 = clean_tide(tide_2012)\n",
    "tide_2013 = clean_tide(tide_2013)\n",
    "tide_2014 = clean_tide(tide_2014)\n",
    "tide_2015 = clean_tide(tide_2015)"
   ]
  },
  {
   "cell_type": "code",
   "execution_count": null,
   "metadata": {},
   "outputs": [],
   "source": []
  },
  {
   "cell_type": "code",
   "execution_count": 628,
   "metadata": {},
   "outputs": [],
   "source": [
    "# atlantic_dfs = tide_2010 + tide_2011 #, 'tide_2012', 'tide_2013', 'tide_2014', 'tide_2015']\n",
    "atlantic_tide = pd.concat([tide_2010, tide_2011, tide_2012, tide_2013, tide_2014, tide_2015])"
   ]
  },
  {
   "cell_type": "code",
   "execution_count": 629,
   "metadata": {},
   "outputs": [
    {
     "data": {
      "text/html": [
       "<div>\n",
       "<style scoped>\n",
       "    .dataframe tbody tr th:only-of-type {\n",
       "        vertical-align: middle;\n",
       "    }\n",
       "\n",
       "    .dataframe tbody tr th {\n",
       "        vertical-align: top;\n",
       "    }\n",
       "\n",
       "    .dataframe thead th {\n",
       "        text-align: right;\n",
       "    }\n",
       "</style>\n",
       "<table border=\"1\" class=\"dataframe\">\n",
       "  <thead>\n",
       "    <tr style=\"text-align: right;\">\n",
       "      <th></th>\n",
       "      <th>Verified (ft)</th>\n",
       "    </tr>\n",
       "    <tr>\n",
       "      <th>Date</th>\n",
       "      <th></th>\n",
       "    </tr>\n",
       "  </thead>\n",
       "  <tbody>\n",
       "    <tr>\n",
       "      <th>2010-01-01</th>\n",
       "      <td>-0.073333</td>\n",
       "    </tr>\n",
       "    <tr>\n",
       "      <th>2010-01-02</th>\n",
       "      <td>0.557500</td>\n",
       "    </tr>\n",
       "    <tr>\n",
       "      <th>2010-01-03</th>\n",
       "      <td>-0.865000</td>\n",
       "    </tr>\n",
       "    <tr>\n",
       "      <th>2010-01-04</th>\n",
       "      <td>0.077500</td>\n",
       "    </tr>\n",
       "    <tr>\n",
       "      <th>2010-01-05</th>\n",
       "      <td>0.332500</td>\n",
       "    </tr>\n",
       "  </tbody>\n",
       "</table>\n",
       "</div>"
      ],
      "text/plain": [
       "            Verified (ft)\n",
       "Date                     \n",
       "2010-01-01      -0.073333\n",
       "2010-01-02       0.557500\n",
       "2010-01-03      -0.865000\n",
       "2010-01-04       0.077500\n",
       "2010-01-05       0.332500"
      ]
     },
     "execution_count": 629,
     "metadata": {},
     "output_type": "execute_result"
    }
   ],
   "source": [
    "atlantic_tide.head()"
   ]
  },
  {
   "cell_type": "code",
   "execution_count": 630,
   "metadata": {},
   "outputs": [],
   "source": [
    "baro_2010 = pd.read_csv('./oesm18ma/Atlantic_city_data/baro_pressure/baro_2010.csv')\n",
    "baro_2011 = pd.read_csv('./oesm18ma/Atlantic_city_data/baro_pressure/baro_2011.csv')\n",
    "baro_2012 = pd.read_csv('./oesm18ma/Atlantic_city_data/baro_pressure/baro_2012.csv')\n",
    "baro_2013 = pd.read_csv('./oesm18ma/Atlantic_city_data/baro_pressure/baro_2013.csv')\n",
    "baro_2014 = pd.read_csv('./oesm18ma/Atlantic_city_data/baro_pressure/baro_2014.csv')\n",
    "baro_2015 = pd.read_csv('./oesm18ma/Atlantic_city_data/baro_pressure/baro_2015.csv')"
   ]
  },
  {
   "cell_type": "code",
   "execution_count": 631,
   "metadata": {},
   "outputs": [
    {
     "data": {
      "text/html": [
       "<div>\n",
       "<style scoped>\n",
       "    .dataframe tbody tr th:only-of-type {\n",
       "        vertical-align: middle;\n",
       "    }\n",
       "\n",
       "    .dataframe tbody tr th {\n",
       "        vertical-align: top;\n",
       "    }\n",
       "\n",
       "    .dataframe thead th {\n",
       "        text-align: right;\n",
       "    }\n",
       "</style>\n",
       "<table border=\"1\" class=\"dataframe\">\n",
       "  <thead>\n",
       "    <tr style=\"text-align: right;\">\n",
       "      <th></th>\n",
       "      <th>DATE TIME</th>\n",
       "      <th>WINDSPEED</th>\n",
       "      <th>DIR</th>\n",
       "      <th>GUSTS</th>\n",
       "      <th>AT</th>\n",
       "      <th>BARO</th>\n",
       "      <th>RELHUM</th>\n",
       "      <th>VIS</th>\n",
       "    </tr>\n",
       "  </thead>\n",
       "  <tbody>\n",
       "    <tr>\n",
       "      <th>0</th>\n",
       "      <td>01/01/2010 00:00</td>\n",
       "      <td>NaN</td>\n",
       "      <td>NaN</td>\n",
       "      <td>NaN</td>\n",
       "      <td>35.6</td>\n",
       "      <td>1017.0</td>\n",
       "      <td>NaN</td>\n",
       "      <td>NaN</td>\n",
       "    </tr>\n",
       "    <tr>\n",
       "      <th>1</th>\n",
       "      <td>01/01/2010 01:00</td>\n",
       "      <td>NaN</td>\n",
       "      <td>NaN</td>\n",
       "      <td>NaN</td>\n",
       "      <td>36.1</td>\n",
       "      <td>1016.8</td>\n",
       "      <td>NaN</td>\n",
       "      <td>NaN</td>\n",
       "    </tr>\n",
       "    <tr>\n",
       "      <th>2</th>\n",
       "      <td>01/01/2010 02:00</td>\n",
       "      <td>NaN</td>\n",
       "      <td>NaN</td>\n",
       "      <td>NaN</td>\n",
       "      <td>NaN</td>\n",
       "      <td>NaN</td>\n",
       "      <td>NaN</td>\n",
       "      <td>NaN</td>\n",
       "    </tr>\n",
       "    <tr>\n",
       "      <th>3</th>\n",
       "      <td>01/01/2010 03:00</td>\n",
       "      <td>NaN</td>\n",
       "      <td>NaN</td>\n",
       "      <td>NaN</td>\n",
       "      <td>35.6</td>\n",
       "      <td>1016.1</td>\n",
       "      <td>NaN</td>\n",
       "      <td>NaN</td>\n",
       "    </tr>\n",
       "    <tr>\n",
       "      <th>4</th>\n",
       "      <td>01/01/2010 04:00</td>\n",
       "      <td>NaN</td>\n",
       "      <td>NaN</td>\n",
       "      <td>NaN</td>\n",
       "      <td>36.0</td>\n",
       "      <td>1015.4</td>\n",
       "      <td>NaN</td>\n",
       "      <td>NaN</td>\n",
       "    </tr>\n",
       "  </tbody>\n",
       "</table>\n",
       "</div>"
      ],
      "text/plain": [
       "          DATE TIME   WINDSPEED   DIR   GUSTS    AT    BARO   RELHUM   VIS\n",
       "0  01/01/2010 00:00         NaN   NaN     NaN  35.6  1017.0      NaN   NaN\n",
       "1  01/01/2010 01:00         NaN   NaN     NaN  36.1  1016.8      NaN   NaN\n",
       "2  01/01/2010 02:00         NaN   NaN     NaN   NaN     NaN      NaN   NaN\n",
       "3  01/01/2010 03:00         NaN   NaN     NaN  35.6  1016.1      NaN   NaN\n",
       "4  01/01/2010 04:00         NaN   NaN     NaN  36.0  1015.4      NaN   NaN"
      ]
     },
     "execution_count": 631,
     "metadata": {},
     "output_type": "execute_result"
    }
   ],
   "source": [
    "baro_2010.head()"
   ]
  },
  {
   "cell_type": "code",
   "execution_count": 632,
   "metadata": {},
   "outputs": [],
   "source": [
    "def clean_baro(df):\n",
    "    df['DATE TIME'] = df['DATE TIME'].map(lambda x: x[:10])\n",
    "    df = df[['DATE TIME', ' BARO']]\n",
    "    df.rename(columns={'DATE TIME': 'Date', ' BARO': 'baro'}, inplace=True)\n",
    "    df.dropna(inplace=True)\n",
    "    df = df.set_index('Date')\n",
    "    df.index = pd.to_datetime(df.index)\n",
    "    df['baro'] = pd.to_numeric(df['baro'])\n",
    "    df = df.resample('D').mean()\n",
    "    return df"
   ]
  },
  {
   "cell_type": "code",
   "execution_count": 633,
   "metadata": {},
   "outputs": [
    {
     "name": "stderr",
     "output_type": "stream",
     "text": [
      "/anaconda3/lib/python3.6/site-packages/pandas/core/frame.py:4025: SettingWithCopyWarning: \n",
      "A value is trying to be set on a copy of a slice from a DataFrame\n",
      "\n",
      "See the caveats in the documentation: http://pandas.pydata.org/pandas-docs/stable/indexing.html#indexing-view-versus-copy\n",
      "  return super(DataFrame, self).rename(**kwargs)\n",
      "/anaconda3/lib/python3.6/site-packages/ipykernel_launcher.py:5: SettingWithCopyWarning: \n",
      "A value is trying to be set on a copy of a slice from a DataFrame\n",
      "\n",
      "See the caveats in the documentation: http://pandas.pydata.org/pandas-docs/stable/indexing.html#indexing-view-versus-copy\n",
      "  \"\"\"\n"
     ]
    }
   ],
   "source": [
    "baro_2010 = clean_baro(baro_2010)\n",
    "baro_2011 = clean_baro(baro_2011)\n",
    "baro_2012 = clean_baro(baro_2012)\n",
    "baro_2013 = clean_baro(baro_2013)\n",
    "baro_2014 = clean_baro(baro_2014)\n",
    "baro_2015 = clean_baro(baro_2015)"
   ]
  },
  {
   "cell_type": "code",
   "execution_count": 634,
   "metadata": {},
   "outputs": [],
   "source": [
    "atlantic_baro = pd.concat([baro_2010, baro_2011, baro_2012, baro_2013, baro_2014, baro_2015])"
   ]
  },
  {
   "cell_type": "code",
   "execution_count": 635,
   "metadata": {
    "scrolled": false
   },
   "outputs": [
    {
     "data": {
      "text/plain": [
       "Index(['DATE', 'ATLA134URN'], dtype='object')"
      ]
     },
     "execution_count": 635,
     "metadata": {},
     "output_type": "execute_result"
    }
   ],
   "source": [
    "atlantic_unemploy.columns"
   ]
  },
  {
   "cell_type": "code",
   "execution_count": 636,
   "metadata": {},
   "outputs": [
    {
     "data": {
      "text/plain": [
       "DatetimeIndex(['2010-01-01', '2010-01-02', '2010-01-03', '2010-01-04',\n",
       "               '2010-01-05', '2010-01-06', '2010-01-07', '2010-01-08',\n",
       "               '2010-01-09', '2010-01-10',\n",
       "               ...\n",
       "               '2010-12-22', '2010-12-23', '2010-12-24', '2010-12-25',\n",
       "               '2010-12-26', '2010-12-27', '2010-12-28', '2010-12-29',\n",
       "               '2010-12-30', '2010-12-31'],\n",
       "              dtype='datetime64[ns]', name='Date', length=365, freq='D')"
      ]
     },
     "execution_count": 636,
     "metadata": {},
     "output_type": "execute_result"
    }
   ],
   "source": [
    "baro_2010.index"
   ]
  },
  {
   "cell_type": "code",
   "execution_count": 637,
   "metadata": {},
   "outputs": [],
   "source": [
    "atlantic = pd.merge(atlantic_tide, atlantic_baro, on='Date')"
   ]
  },
  {
   "cell_type": "code",
   "execution_count": 638,
   "metadata": {
    "scrolled": true
   },
   "outputs": [
    {
     "data": {
      "text/html": [
       "<div>\n",
       "<style scoped>\n",
       "    .dataframe tbody tr th:only-of-type {\n",
       "        vertical-align: middle;\n",
       "    }\n",
       "\n",
       "    .dataframe tbody tr th {\n",
       "        vertical-align: top;\n",
       "    }\n",
       "\n",
       "    .dataframe thead th {\n",
       "        text-align: right;\n",
       "    }\n",
       "</style>\n",
       "<table border=\"1\" class=\"dataframe\">\n",
       "  <thead>\n",
       "    <tr style=\"text-align: right;\">\n",
       "      <th></th>\n",
       "      <th>Verified (ft)</th>\n",
       "      <th>baro</th>\n",
       "    </tr>\n",
       "    <tr>\n",
       "      <th>Date</th>\n",
       "      <th></th>\n",
       "      <th></th>\n",
       "    </tr>\n",
       "  </thead>\n",
       "  <tbody>\n",
       "    <tr>\n",
       "      <th>2010-01-01</th>\n",
       "      <td>-0.073333</td>\n",
       "      <td>1012.895238</td>\n",
       "    </tr>\n",
       "    <tr>\n",
       "      <th>2010-01-02</th>\n",
       "      <td>0.557500</td>\n",
       "      <td>1005.982609</td>\n",
       "    </tr>\n",
       "    <tr>\n",
       "      <th>2010-01-03</th>\n",
       "      <td>-0.865000</td>\n",
       "      <td>1003.373913</td>\n",
       "    </tr>\n",
       "    <tr>\n",
       "      <th>2010-01-04</th>\n",
       "      <td>0.077500</td>\n",
       "      <td>1005.636364</td>\n",
       "    </tr>\n",
       "    <tr>\n",
       "      <th>2010-01-05</th>\n",
       "      <td>0.332500</td>\n",
       "      <td>1007.321053</td>\n",
       "    </tr>\n",
       "  </tbody>\n",
       "</table>\n",
       "</div>"
      ],
      "text/plain": [
       "            Verified (ft)         baro\n",
       "Date                                  \n",
       "2010-01-01      -0.073333  1012.895238\n",
       "2010-01-02       0.557500  1005.982609\n",
       "2010-01-03      -0.865000  1003.373913\n",
       "2010-01-04       0.077500  1005.636364\n",
       "2010-01-05       0.332500  1007.321053"
      ]
     },
     "execution_count": 638,
     "metadata": {},
     "output_type": "execute_result"
    }
   ],
   "source": [
    "atlantic.head()"
   ]
  },
  {
   "cell_type": "code",
   "execution_count": 639,
   "metadata": {},
   "outputs": [],
   "source": [
    "atlantic_unemploy = pd.read_csv('./oesm18ma/Atlantic_city_data/unemployment_nonseaonal.csv')"
   ]
  },
  {
   "cell_type": "code",
   "execution_count": 640,
   "metadata": {},
   "outputs": [],
   "source": [
    "def clean_unemploy(df, noaa_data):\n",
    "    df.rename(columns={'DATE': 'Date', 'ATLA134URN': 'unemployment_rate'}, inplace=True)\n",
    "    df['Date'] = pd.to_datetime(df['Date'])\n",
    "    df = df.set_index('Date')\n",
    "    df['unemployment_rate'] = pd.to_numeric(df['unemployment_rate'])\n",
    "    list_days = noaa_data.index\n",
    "    rate_list = [df.loc[str(i)[:7]]['unemployment_rate'].item() for i in list_days]\n",
    "    unemploy_df = pd.DataFrame(data=rate_list, index=list_days)\n",
    "    unemploy_df.rename(columns={0: 'rate'}, inplace=True)\n",
    "    return unemploy_df"
   ]
  },
  {
   "cell_type": "code",
   "execution_count": 642,
   "metadata": {},
   "outputs": [],
   "source": [
    "unemploy_df = clean_unemploy(atlantic_unemploy, atlantic)"
   ]
  },
  {
   "cell_type": "code",
   "execution_count": 643,
   "metadata": {},
   "outputs": [],
   "source": [
    "atlantic = pd.merge(atlantic, unemploy_df, on='Date')"
   ]
  },
  {
   "cell_type": "code",
   "execution_count": 645,
   "metadata": {
    "scrolled": true
   },
   "outputs": [
    {
     "data": {
      "text/html": [
       "<div>\n",
       "<style scoped>\n",
       "    .dataframe tbody tr th:only-of-type {\n",
       "        vertical-align: middle;\n",
       "    }\n",
       "\n",
       "    .dataframe tbody tr th {\n",
       "        vertical-align: top;\n",
       "    }\n",
       "\n",
       "    .dataframe thead th {\n",
       "        text-align: right;\n",
       "    }\n",
       "</style>\n",
       "<table border=\"1\" class=\"dataframe\">\n",
       "  <thead>\n",
       "    <tr style=\"text-align: right;\">\n",
       "      <th></th>\n",
       "      <th>Verified (ft)</th>\n",
       "      <th>baro</th>\n",
       "      <th>rate</th>\n",
       "    </tr>\n",
       "    <tr>\n",
       "      <th>Date</th>\n",
       "      <th></th>\n",
       "      <th></th>\n",
       "      <th></th>\n",
       "    </tr>\n",
       "  </thead>\n",
       "  <tbody>\n",
       "    <tr>\n",
       "      <th>2010-01-01</th>\n",
       "      <td>-0.073333</td>\n",
       "      <td>1012.895238</td>\n",
       "      <td>13.9</td>\n",
       "    </tr>\n",
       "    <tr>\n",
       "      <th>2010-01-02</th>\n",
       "      <td>0.557500</td>\n",
       "      <td>1005.982609</td>\n",
       "      <td>13.9</td>\n",
       "    </tr>\n",
       "    <tr>\n",
       "      <th>2010-01-03</th>\n",
       "      <td>-0.865000</td>\n",
       "      <td>1003.373913</td>\n",
       "      <td>13.9</td>\n",
       "    </tr>\n",
       "    <tr>\n",
       "      <th>2010-01-04</th>\n",
       "      <td>0.077500</td>\n",
       "      <td>1005.636364</td>\n",
       "      <td>13.9</td>\n",
       "    </tr>\n",
       "    <tr>\n",
       "      <th>2010-01-05</th>\n",
       "      <td>0.332500</td>\n",
       "      <td>1007.321053</td>\n",
       "      <td>13.9</td>\n",
       "    </tr>\n",
       "  </tbody>\n",
       "</table>\n",
       "</div>"
      ],
      "text/plain": [
       "            Verified (ft)         baro  rate\n",
       "Date                                        \n",
       "2010-01-01      -0.073333  1012.895238  13.9\n",
       "2010-01-02       0.557500  1005.982609  13.9\n",
       "2010-01-03      -0.865000  1003.373913  13.9\n",
       "2010-01-04       0.077500  1005.636364  13.9\n",
       "2010-01-05       0.332500  1007.321053  13.9"
      ]
     },
     "execution_count": 645,
     "metadata": {},
     "output_type": "execute_result"
    }
   ],
   "source": [
    "atlantic.head()"
   ]
  },
  {
   "cell_type": "code",
   "execution_count": null,
   "metadata": {},
   "outputs": [],
   "source": []
  }
 ],
 "metadata": {
  "kernelspec": {
   "display_name": "Python 3",
   "language": "python",
   "name": "python3"
  },
  "language_info": {
   "codemirror_mode": {
    "name": "ipython",
    "version": 3
   },
   "file_extension": ".py",
   "mimetype": "text/x-python",
   "name": "python",
   "nbconvert_exporter": "python",
   "pygments_lexer": "ipython3",
   "version": "3.6.8"
  }
 },
 "nbformat": 4,
 "nbformat_minor": 2
}
